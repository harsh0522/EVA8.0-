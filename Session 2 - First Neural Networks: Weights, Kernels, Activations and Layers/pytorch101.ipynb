{
  "nbformat": 4,
  "nbformat_minor": 0,
  "metadata": {
    "colab": {
      "provenance": [],
      "include_colab_link": true
    },
    "kernelspec": {
      "name": "python3",
      "display_name": "Python 3"
    }
  },
  "cells": [
    {
      "cell_type": "markdown",
      "metadata": {
        "id": "view-in-github",
        "colab_type": "text"
      },
      "source": [
        "<a href=\"https://colab.research.google.com/github/harsh0522/EVA8.0-/blob/main/Session%202%20-%20First%20Neural%20Networks%3A%20Weights%2C%20Kernels%2C%20Activations%20and%20Layers/pytorch101.ipynb\" target=\"_parent\"><img src=\"https://colab.research.google.com/assets/colab-badge.svg\" alt=\"Open In Colab\"/></a>"
      ]
    },
    {
      "cell_type": "markdown",
      "metadata": {
        "id": "_kYM3ylzYo1Q"
      },
      "source": [
        "![PyTorch](https://devblogs.nvidia.com/wp-content/uploads/2017/04/pytorch-logo-dark.png)\n",
        "\n",
        "An open source machine learning framework that accelerates the path from research prototyping to production deployment.\n",
        "\n"
      ]
    },
    {
      "cell_type": "markdown",
      "metadata": {
        "id": "WcVqSTrWY6oz"
      },
      "source": [
        "# Tensor - Pytorch's core data structure\n",
        "\n",
        "In Python we can create lists, lists of lists, lists of lists and so on. In NumPy there is a `numpy.ndarray` which represents `n`- dimensional array. In math there is a special name for the generalization of vectors and matrices to a higher dimensional space - a tensor\n",
        "\n",
        "Tensor is an entity with a defined number of dimensions called an order (rank). \n",
        "\n",
        "**Scalar** can be considered as a rank-0-tensor. \n",
        "\n",
        "**Vector** can be introduced as a rank-1-tensor. \n",
        "\n",
        "**Matrices** can be considered as a rank-2-tensor.\n",
        "\n",
        "# Tensor Basics\n",
        "\n",
        "Let's import the torch module first."
      ]
    },
    {
      "cell_type": "code",
      "metadata": {
        "id": "e-oFVL2tYYqp"
      },
      "source": [
        "import numpy as np\n",
        "import torch"
      ],
      "execution_count": 1,
      "outputs": []
    },
    {
      "cell_type": "markdown",
      "metadata": {
        "id": "uGxuR5IEaFJa"
      },
      "source": [
        "## Tensor Creation\n",
        "Let's view examples of matrices and tensors generation\n",
        "\n",
        "2-dimensional (rank-2) tensor of zeros:"
      ]
    },
    {
      "cell_type": "code",
      "metadata": {
        "id": "897JQc25aD3E",
        "outputId": "c8b41679-9bb3-41ad-fb92-f5b433617c44",
        "colab": {
          "base_uri": "https://localhost:8080/"
        }
      },
      "source": [
        "torch.zeros(3, 4)"
      ],
      "execution_count": 2,
      "outputs": [
        {
          "output_type": "execute_result",
          "data": {
            "text/plain": [
              "tensor([[0., 0., 0., 0.],\n",
              "        [0., 0., 0., 0.],\n",
              "        [0., 0., 0., 0.]])"
            ]
          },
          "metadata": {},
          "execution_count": 2
        }
      ]
    },
    {
      "cell_type": "markdown",
      "metadata": {
        "id": "pujmpEBhaPRA"
      },
      "source": [
        "Random rank-3 tensor:\n",
        "_read the print below and convince yourself how this is a rank-3-tensor and learn what those 2, 3, 4 values are there for_"
      ]
    },
    {
      "cell_type": "code",
      "metadata": {
        "id": "mBrznTNhaOL7",
        "outputId": "97870ac5-38cf-48c3-c8cb-d74c8a93bfe1",
        "colab": {
          "base_uri": "https://localhost:8080/"
        }
      },
      "source": [
        "torch.rand(2, 3, 4)"
      ],
      "execution_count": 3,
      "outputs": [
        {
          "output_type": "execute_result",
          "data": {
            "text/plain": [
              "tensor([[[0.8379, 0.5600, 0.0356, 0.9344],\n",
              "         [0.1458, 0.3207, 0.3482, 0.0732],\n",
              "         [0.8037, 0.0066, 0.9240, 0.7368]],\n",
              "\n",
              "        [[0.6333, 0.5629, 0.1627, 0.4931],\n",
              "         [0.9616, 0.4669, 0.7689, 0.9749],\n",
              "         [0.3680, 0.2087, 0.4880, 0.8892]]])"
            ]
          },
          "metadata": {},
          "execution_count": 3
        }
      ]
    },
    {
      "cell_type": "markdown",
      "metadata": {
        "id": "kO4fIr15asdi"
      },
      "source": [
        "I am hoping you have noticed 4-elements in a row, 3 rows making one block and there are 2 blocks. \n",
        "\n",
        "Random rank-4-tensor:"
      ]
    },
    {
      "cell_type": "code",
      "metadata": {
        "id": "KiCLvMGCaVZ3",
        "outputId": "d56a8cff-cb15-4e35-9f90-34790d569471",
        "colab": {
          "base_uri": "https://localhost:8080/"
        }
      },
      "source": [
        "torch.rand(2, 2, 2, 3)"
      ],
      "execution_count": 4,
      "outputs": [
        {
          "output_type": "execute_result",
          "data": {
            "text/plain": [
              "tensor([[[[0.1300, 0.8203, 0.1057],\n",
              "          [0.7421, 0.2069, 0.8650]],\n",
              "\n",
              "         [[0.7135, 0.5242, 0.2388],\n",
              "          [0.4875, 0.1757, 0.6136]]],\n",
              "\n",
              "\n",
              "        [[[0.9853, 0.7827, 0.7919],\n",
              "          [0.5066, 0.5582, 0.4662]],\n",
              "\n",
              "         [[0.0109, 0.0454, 0.3022],\n",
              "          [0.0944, 0.2686, 0.1433]]]])"
            ]
          },
          "metadata": {},
          "execution_count": 4
        }
      ]
    },
    {
      "cell_type": "markdown",
      "metadata": {
        "id": "lF6VL68s3AMV"
      },
      "source": [
        "## Question 1:\n",
        "\n",
        "How many dimensions are there in a tensor defined as below?\n",
        "\n",
        "## Answer 1:\n",
        "\n",
        "1 dimensional "
      ]
    },
    {
      "cell_type": "code",
      "metadata": {
        "id": "8IbXcI3x3Ibt",
        "outputId": "2826ff68-a294-4ce4-a4e2-64c521251e42",
        "colab": {
          "base_uri": "https://localhost:8080/"
        }
      },
      "source": [
        "torch.rand(1, 1, 1, 1)"
      ],
      "execution_count": 5,
      "outputs": [
        {
          "output_type": "execute_result",
          "data": {
            "text/plain": [
              "tensor([[[[0.0537]]]])"
            ]
          },
          "metadata": {},
          "execution_count": 5
        }
      ]
    },
    {
      "cell_type": "markdown",
      "metadata": {
        "id": "qmgpqssRa9jF"
      },
      "source": [
        ".\n",
        "\n",
        "---\n",
        "\n",
        "\n",
        "There are many more ways to create tensor using some restrictions on values it should contatn - for the full reference, please follow the [official docs](https://pytorch.org/docs/stable/torch.html#creation-ops). \n",
        "\n",
        "\n",
        ".\n",
        "---\n",
        "\n",
        "\n",
        "# Python / NumPy / Pytorch interoperability\n",
        "\n",
        "You can create tensors from python as well as numpy arrays. You can also convert torch tensors to numpy arrays. So, the interoperability between torch and numpy is pretty good. "
      ]
    },
    {
      "cell_type": "code",
      "metadata": {
        "id": "ipgpeWPfa6gE",
        "outputId": "6f2bd99b-5619-4668-87b4-a0729cf4690c",
        "colab": {
          "base_uri": "https://localhost:8080/"
        }
      },
      "source": [
        "# Simple Python List\n",
        "python_list = [1, 2]\n",
        "\n",
        "# Create a numpy array from python list\n",
        "numpy_array = np.array(python_list)\n",
        "\n",
        "# Create a torch Tensor from python list\n",
        "tensor_from_list = torch.tensor(python_list)\n",
        "\n",
        "# Create a torch Tensor from Numpy array\n",
        "tensor_from_array = torch.tensor(numpy_array)\n",
        "\n",
        "# Another way to create a torch Tensor from Numpy array (share same storage)\n",
        "tensor_from_array_v2 = torch.from_numpy(numpy_array)\n",
        "\n",
        "# Convert torch tensor to numpy array\n",
        "array_from_tensor = tensor_from_array.numpy()\n",
        "\n",
        "print('List:   ', python_list)\n",
        "print('Array:  ', numpy_array)\n",
        "print('Tensor: ', tensor_from_list)\n",
        "print('Tensor: ', tensor_from_array)\n",
        "print('Tensor: ', tensor_from_array_v2)\n",
        "print('Array:  ', array_from_tensor)"
      ],
      "execution_count": 6,
      "outputs": [
        {
          "output_type": "stream",
          "name": "stdout",
          "text": [
            "List:    [1, 2]\n",
            "Array:   [1 2]\n",
            "Tensor:  tensor([1, 2])\n",
            "Tensor:  tensor([1, 2])\n",
            "Tensor:  tensor([1, 2])\n",
            "Array:   [1 2]\n"
          ]
        }
      ]
    },
    {
      "cell_type": "markdown",
      "metadata": {
        "id": "X_x-86B8gqik"
      },
      "source": [
        "**Difference between** `torch.Tensor` **and** `torch.from_numpy`\n",
        "\n",
        "Pytorch aims to be an effective library for computations. What does it mean? It means that pytorch avoids memory copying if it can. "
      ]
    },
    {
      "cell_type": "code",
      "metadata": {
        "id": "eHCKDGpygn_d",
        "outputId": "98db3ee7-378a-4b52-c9dc-366f481161dc",
        "colab": {
          "base_uri": "https://localhost:8080/"
        }
      },
      "source": [
        "numpy_array[0] = 10\n",
        "\n",
        "print('Array:  ', numpy_array)\n",
        "print('Tensor: ', tensor_from_array)\n",
        "print('Tensor: ', tensor_from_array_v2)"
      ],
      "execution_count": 7,
      "outputs": [
        {
          "output_type": "stream",
          "name": "stdout",
          "text": [
            "Array:   [10  2]\n",
            "Tensor:  tensor([1, 2])\n",
            "Tensor:  tensor([10,  2])\n"
          ]
        }
      ]
    },
    {
      "cell_type": "markdown",
      "metadata": {
        "id": "-CKtdNRM3SMp"
      },
      "source": [
        "## Question 2:\n",
        "\n",
        "Assume that we moved our complete (cats vs dogs) image dataset to numpy arrays. Then we use torch.from_numpy to convert these images to tensor. Then we apply a specific data augmentation strategy called \"CutOut\" which blocks a portion of the image directly on these tensors. What will happen to the accuracy of a model trained on this strategy compared to the one without this strategy? CutOut strategy is shown below: \n",
        "\n",
        "## Answer 2:\n",
        "Accuracy will be rduced.\n",
        "\n",
        "![CutOut](https://encrypted-tbn0.gstatic.com/images?q=tbn%3AANd9GcSnSyN835AmtQPKQbPjDHX-FmshNilbtexX95cRGQPwl56QCGDn)\n",
        "\n",
        "## Question 3:\n",
        "Why do you think we are observing this behavior?\n",
        "\n",
        "## Answer 3:\n",
        "Accuracy will be reduced because maybe main features of these images are being blackout and they cannot be extracted by kernels............ example wheel of car so model can assume plane as car something like that or maybe wings of bird are blackout model may not be distinguised between two kinds of birds or maybe it consider plane as bird.\n",
        "---\n",
        "\n",
        "\n"
      ]
    },
    {
      "cell_type": "markdown",
      "metadata": {
        "id": "dZq7O-aihSOA"
      },
      "source": [
        "We have two different ways to create tensor from its NumPy counterpart - one copies memory and another one shares the same underlying storage. It works in the opposite way:"
      ]
    },
    {
      "cell_type": "code",
      "metadata": {
        "id": "TNFOwV8EhPwQ",
        "outputId": "ec4c5157-1bef-4b0d-a91b-5130fee94c45",
        "colab": {
          "base_uri": "https://localhost:8080/"
        }
      },
      "source": [
        "array_from_tensor = tensor_from_array.numpy()\n",
        "print('Tensor: ', tensor_from_array)\n",
        "print('Array: ', array_from_tensor)\n",
        "\n",
        "tensor_from_array[0] = 11\n",
        "print('Tensor: ', tensor_from_array)\n",
        "print('Array: ', array_from_tensor)"
      ],
      "execution_count": 8,
      "outputs": [
        {
          "output_type": "stream",
          "name": "stdout",
          "text": [
            "Tensor:  tensor([1, 2])\n",
            "Array:  [1 2]\n",
            "Tensor:  tensor([11,  2])\n",
            "Array:  [11  2]\n"
          ]
        }
      ]
    },
    {
      "cell_type": "markdown",
      "metadata": {
        "id": "UM9ytbvKhtCw"
      },
      "source": [
        "## Data types\n",
        "\n",
        "The basic data type of all Deep Learning-related operations is float, but sometimes you may need something else. Pytorch support different number types for its tensors the same way NumPy does it - by specifying the data type on tensor creation or via casting. Ths full list of supported data types can be found [here](https://pytorch.org/docs/stable/tensors.html). "
      ]
    },
    {
      "cell_type": "code",
      "metadata": {
        "id": "Bd6WkzJ4hpYi",
        "outputId": "5a285705-1c43-42b5-aadf-58603f0c47d5",
        "colab": {
          "base_uri": "https://localhost:8080/"
        }
      },
      "source": [
        "tensor = torch.zeros(2, 2)\n",
        "print('Tensor with default type: ', tensor)\n",
        "tensor = torch.zeros(2, 2, dtype=torch.float16)\n",
        "print('Tensor with 16-bit float: ', tensor)\n",
        "tensor = torch.zeros(2, 2, dtype=torch.int16)\n",
        "print('Tensor with integers: ', tensor)\n",
        "tensor = torch.zeros(2, 2, dtype=torch.bool)\n",
        "print('Tensor with boolean data: ', tensor)"
      ],
      "execution_count": 9,
      "outputs": [
        {
          "output_type": "stream",
          "name": "stdout",
          "text": [
            "Tensor with default type:  tensor([[0., 0.],\n",
            "        [0., 0.]])\n",
            "Tensor with 16-bit float:  tensor([[0., 0.],\n",
            "        [0., 0.]], dtype=torch.float16)\n",
            "Tensor with integers:  tensor([[0, 0],\n",
            "        [0, 0]], dtype=torch.int16)\n",
            "Tensor with boolean data:  tensor([[False, False],\n",
            "        [False, False]])\n"
          ]
        }
      ]
    },
    {
      "cell_type": "markdown",
      "metadata": {
        "id": "a9F4Dkdr40TE"
      },
      "source": [
        "\n",
        "\n",
        "---\n",
        "\n",
        "\n",
        "## Question 4:\n",
        "We saw above that some times numpy and tensors share same storage and changing one changes the other. \n",
        "If we define a rank-2-tensor with ones (dtype of f16), and then convert it into a numpy data type using tensor.numpy() and store it in a variable called \"num\", and then we perform this operation `num = num * 0.5`, will the original tensor have 1.0s or 0.5s as its element values? \n",
        "\n",
        "## Answer 4:\n",
        "Orignal tensor will be unchanged because we are creating copy of orignal one.\n",
        "\n"
      ]
    },
    {
      "cell_type": "markdown",
      "metadata": {
        "id": "OiQt8Mmm51OE"
      },
      "source": [
        "\n",
        "\n",
        "---\n",
        "\n",
        "## Question 5: \n",
        "If the operation `num = num*5` is changed to `num[:] = num*5` will the original tensor have 1.0s or 0.5s as its element values? \n",
        "\n",
        "## Answer 5: \n",
        "Still unchanged\n",
        "\n",
        "\n",
        "---\n",
        "\n"
      ]
    },
    {
      "cell_type": "markdown",
      "metadata": {
        "id": "vzh8UB8KiVmb"
      },
      "source": [
        "## Indexing\n",
        "\n",
        "Tensor provides access to its elements via the same `[]` operation as a regular python list or NumPy array. However, as you may recall from NumPy usage, the full power of math libraries is accessible only via vectorized operations, i.e. operations without explicit looping over all vector elements in python and using implicit optimized loops in C/C++/CUDA/Fortran/etc. available via special function calls. Pytorch employs the same paradigm and provides a wide range of vectorized operations. Let's take a look at some examples. \n",
        "\n",
        "Joining a list of tensors together with `torch.cat`"
      ]
    },
    {
      "cell_type": "code",
      "metadata": {
        "id": "GMaCDKPhiUAb",
        "outputId": "ecb63bfd-390a-4bcd-a312-02523e457e2d",
        "colab": {
          "base_uri": "https://localhost:8080/"
        }
      },
      "source": [
        "a = torch.zeros(3, 2)\n",
        "b = torch.ones(3, 2)\n",
        "print(torch.cat((a, b), dim=0))"
      ],
      "execution_count": 12,
      "outputs": [
        {
          "output_type": "stream",
          "name": "stdout",
          "text": [
            "tensor([[0., 0.],\n",
            "        [0., 0.],\n",
            "        [0., 0.],\n",
            "        [1., 1.],\n",
            "        [1., 1.],\n",
            "        [1., 1.]])\n"
          ]
        }
      ]
    },
    {
      "cell_type": "markdown",
      "metadata": {
        "id": "5bj4aeE86zdH"
      },
      "source": [
        "\n",
        "\n",
        "---\n",
        "\n",
        "## Question 6: \n",
        "Is the transpose of concatenated a & b tensor on dimension 1, same as the contatenated tensor of a & b on dimension 0? \n",
        "\n",
        "## Answer 6: \n",
        "It will be different\n",
        "\n",
        "a = torch.zeros(3, 2)\n",
        "b = torch.ones(3, 2)\n",
        "print(torch.cat((a, b), dim=1))\n",
        "\n",
        "tensor([[0., 0., 1., 1.],\n",
        "        [0., 0., 1., 1.],\n",
        "        [0., 0., 1., 1.]])\n",
        "\n",
        "\n",
        "\n",
        "a = torch.zeros(3, 2)\n",
        "b = torch.ones(3, 2)\n",
        "print(torch.cat((a, b), dim=0))\n",
        "\n",
        "tensor([[0., 0.],\n",
        "        [0., 0.],\n",
        "        [0., 0.],\n",
        "        [1., 1.],\n",
        "        [1., 1.],\n",
        "        [1., 1.]])\n",
        "\n",
        "---\n",
        "\n"
      ]
    },
    {
      "cell_type": "markdown",
      "metadata": {
        "id": "0TXNne69j7LP"
      },
      "source": [
        "Indexing with another tenxor/array:"
      ]
    },
    {
      "cell_type": "code",
      "metadata": {
        "id": "KiE-Fsi4jVd6",
        "outputId": "7e34faa2-19d5-4609-db1d-6742d4544992",
        "colab": {
          "base_uri": "https://localhost:8080/"
        }
      },
      "source": [
        "a = torch.arange(start=0, end=10)\n",
        "indices = np.arange(0, 10) > 5\n",
        "print(a)\n",
        "print(indices)\n",
        "print(a[indices])\n",
        "\n",
        "indices = torch.arange(start=0, end=10) %5\n",
        "print(indices)\n",
        "print(a[indices])\n",
        "\n",
        "b = torch.arange(start=0, end=10)\n",
        "indices = np.arange(0, 10) > 5\n",
        "print(b)\n",
        "print(indices)\n",
        "print(b[indices])\n",
        "\n",
        "indices = torch.arange(start=1, end=11) %5\n",
        "print(indices)\n",
        "print(b[indices])\n"
      ],
      "execution_count": 14,
      "outputs": [
        {
          "output_type": "stream",
          "name": "stdout",
          "text": [
            "tensor([0, 1, 2, 3, 4, 5, 6, 7, 8, 9])\n",
            "[False False False False False False  True  True  True  True]\n",
            "tensor([6, 7, 8, 9])\n",
            "tensor([0, 1, 2, 3, 4, 0, 1, 2, 3, 4])\n",
            "tensor([0, 1, 2, 3, 4, 0, 1, 2, 3, 4])\n",
            "tensor([0, 1, 2, 3, 4, 5, 6, 7, 8, 9])\n",
            "[False False False False False False  True  True  True  True]\n",
            "tensor([6, 7, 8, 9])\n",
            "tensor([1, 2, 3, 4, 0, 1, 2, 3, 4, 0])\n",
            "tensor([1, 2, 3, 4, 0, 1, 2, 3, 4, 0])\n"
          ]
        }
      ]
    },
    {
      "cell_type": "markdown",
      "metadata": {
        "id": "LS4dnlu47WQu"
      },
      "source": [
        "\n",
        "\n",
        "---\n",
        "\n",
        "## Question 7:\n",
        "\n",
        "`a` is defined as `torch.arange(start=0, end=10)`. We will create `b` using the two operations as below. In both cases do we get the same value?\n",
        "\n",
        "\n",
        "1.   indices variable created by the modulo operation on arange between 0 and 10. Then a new varialble `b` is created from `a` using the last 5 elements of indices. \n",
        "2.   indices variable created by the modulo operation on arange betwenn 1 and 11. Then a new varialble `b` is created from `a` using the last 5 elements of indices. \n",
        "\n",
        "## Answer 7:\n",
        "they are different \n",
        "\n",
        "tensor([0, 1, 2, 3, 4, 5, 6, 7, 8, 9])\n",
        "[False False False False False False  True  True  True  True]\n",
        "tensor([6, 7, 8, 9])\n",
        "tensor([0, 1, 2, 3, 4, 0, 1, 2, 3, 4])\n",
        "tensor([0, 1, 2, 3, 4, 0, 1, 2, 3, 4])\n",
        "tensor([0, 1, 2, 3, 4, 5, 6, 7, 8, 9])\n",
        "[False False False False False False  True  True  True  True]\n",
        "tensor([6, 7, 8, 9])\n",
        "tensor([1, 2, 3, 4, 0, 1, 2, 3, 4, 0])\n",
        "tensor([1, 2, 3, 4, 0, 1, 2, 3, 4, 0])\n",
        "\n",
        "---\n",
        "\n",
        "\n"
      ]
    },
    {
      "cell_type": "markdown",
      "metadata": {
        "id": "eQ4ZCVsTk-KH"
      },
      "source": [
        "What should we do if we have, say, rank-2-tensor and want to select only some rows?"
      ]
    },
    {
      "cell_type": "code",
      "metadata": {
        "id": "_GtRpotjkt1q",
        "outputId": "89ba8b02-10d3-4c37-982a-3ef4b05be946",
        "colab": {
          "base_uri": "https://localhost:8080/",
          "height": 143
        }
      },
      "source": [
        "tensor = torch.rand((5, 3))\n",
        "rows = torch.tensor([0, 2])\n",
        "print(tensor)\n",
        "tensor[rows]"
      ],
      "execution_count": null,
      "outputs": [
        {
          "output_type": "stream",
          "text": [
            "tensor([[0.6657, 0.7041, 0.4038],\n",
            "        [0.1543, 0.4606, 0.1103],\n",
            "        [0.6704, 0.6282, 0.1762],\n",
            "        [0.7504, 0.6413, 0.5980],\n",
            "        [0.0452, 0.2649, 0.7961]])\n"
          ],
          "name": "stdout"
        },
        {
          "output_type": "execute_result",
          "data": {
            "text/plain": [
              "tensor([[0.6657, 0.7041, 0.4038],\n",
              "        [0.6704, 0.6282, 0.1762]])"
            ]
          },
          "metadata": {
            "tags": []
          },
          "execution_count": 71
        }
      ]
    },
    {
      "cell_type": "markdown",
      "metadata": {
        "id": "zIJnr_N2_Qaf"
      },
      "source": [
        "\n",
        "\n",
        "---\n",
        "\n",
        "## Question 8: \n",
        "\n",
        "Consider a tensor defined as `torch.rand((6, 5))`. Is the shape of the new tensor created by taking the 0th, 2nd and 4th row of the old tensor same as the shape of the a newer tensor created by taking the 0th, 2nd and 4th row of the old tensor after transposing it by operation `torch.transpose(tensor, 0, 1)` ?\n",
        "\n",
        "\n",
        "\n",
        "---\n",
        "\n",
        "\n"
      ]
    },
    {
      "cell_type": "markdown",
      "metadata": {
        "id": "naDzFMkslU0b"
      },
      "source": [
        "## Tensor Shapes\n",
        "\n",
        "Reshaping a tensor is a frequently used operation. We can change the shape of a tensor without the memory copying overhead. There are two methods for that: `reshape` and `view`. \n",
        "\n",
        "The difference is the following: \n",
        "\n",
        "\n",
        "*   view tries to return a tensor, and it shares the same memory with the original tensor. In case, if it cannot reuse the same memory due to [some reason](https://pytorch.org/docs/stable/tensors.html?highlight=view#torch.Tensor.view), it just fails. \n",
        "*   reshape always returns the tensor with the desired shape and tries to reuse the memory. If it cannot, it creates a copy\n",
        "\n",
        "Let's see with the help of an example:"
      ]
    },
    {
      "cell_type": "code",
      "metadata": {
        "id": "HClDkqLLlMJh",
        "outputId": "12dddff6-ac85-4b88-ab62-c1dd86d95632",
        "colab": {
          "base_uri": "https://localhost:8080/"
        }
      },
      "source": [
        "tensor = torch.rand(2, 3, 4)\n",
        "print('Pointer to data: ', tensor.data_ptr())\n",
        "print('Shape: ', tensor.shape)\n",
        "\n",
        "reshaped = tensor.reshape(24)\n",
        "\n",
        "view = tensor.view(3, 2, 4)\n",
        "print('Reshaped tensor - pointer to data', reshaped.data_ptr())\n",
        "print('Reshaped tensor shape ', reshaped.shape)\n",
        "\n",
        "print('Viewed tensor - pointer to data', view.data_ptr())\n",
        "print('Viewed tensor shape ', view.shape)\n",
        "\n",
        "assert tensor.data_ptr() == view.data_ptr()\n",
        "\n",
        "assert np.all(np.equal(tensor.numpy().flat, reshaped.numpy().flat))\n",
        "\n",
        "print('Original stride: ', tensor.stride())\n",
        "print('Reshaped stride: ', reshaped.stride())\n",
        "print('Viewed stride: ', view.stride())"
      ],
      "execution_count": 15,
      "outputs": [
        {
          "output_type": "stream",
          "name": "stdout",
          "text": [
            "Pointer to data:  136477824\n",
            "Shape:  torch.Size([2, 3, 4])\n",
            "Reshaped tensor - pointer to data 136477824\n",
            "Reshaped tensor shape  torch.Size([24])\n",
            "Viewed tensor - pointer to data 136477824\n",
            "Viewed tensor shape  torch.Size([3, 2, 4])\n",
            "Original stride:  (12, 4, 1)\n",
            "Reshaped stride:  (1,)\n",
            "Viewed stride:  (8, 4, 1)\n"
          ]
        }
      ]
    },
    {
      "cell_type": "markdown",
      "metadata": {
        "id": "jIN5jSppm4yC"
      },
      "source": [
        "The basic rule about reshaping the tensor is definitely that you cannot change the total number of elements in it, so the product of all tensor's dimensions should always be the same. It gives us the ability to avoid specifying one dimension when reshaping the tensor - Pytorch can calculate it for us:"
      ]
    },
    {
      "cell_type": "code",
      "metadata": {
        "id": "e3D19ERFmzOl",
        "outputId": "1491995f-fd9a-49aa-db5a-e49b38ccdb3c",
        "colab": {
          "base_uri": "https://localhost:8080/"
        }
      },
      "source": [
        "print(tensor.reshape(3, 2, 4).shape)\n",
        "print(tensor.reshape(3, 2, -1).shape)\n",
        "print(tensor.reshape(3, -1, 4).shape)"
      ],
      "execution_count": 17,
      "outputs": [
        {
          "output_type": "stream",
          "name": "stdout",
          "text": [
            "torch.Size([3, 2, 4])\n",
            "torch.Size([3, 2, 4])\n",
            "torch.Size([3, 2, 4])\n"
          ]
        }
      ]
    },
    {
      "cell_type": "markdown",
      "metadata": {
        "id": "ObgCQKUiETak"
      },
      "source": [
        "\n",
        "\n",
        "---\n",
        "\n",
        "\n",
        "## Question 9:\n",
        "\n",
        "Consider a tensor `a` created with [1, 2, 3] and [1, 2, 3] of size (2, 3) is reshaped with operation `.reshape(-1, 2)`. Also consider a tensor `b` created with [[2, 1]] and of size (1, 2), later operated with `view(2, -1)` operation. \n",
        "\n",
        "If we do a dot product of a and b (using `torch.mm`) and perform the sum of all the elements (using `torch.sum`) what do we get? (enter int value without any decimal point in the quiz)\n",
        "\n",
        "\n",
        "\n",
        "---\n",
        "\n"
      ]
    },
    {
      "cell_type": "markdown",
      "metadata": {
        "id": "mza7QPg3ndeV"
      },
      "source": [
        "**Alternative ways to view tensors** - `expand` or `expand_as`.\n",
        "\n",
        "\n",
        "\n",
        "*   `expand` - requires the desired shape as an input\n",
        "*   `expand_as` - uses the shape of another tensor\n",
        "\n",
        "These operations \"repeat\" tensor's values along the specified axes without actually copying the data. \n",
        "\n",
        "As the documentation says, expand:\n",
        "\n",
        "\n",
        "> returns a new view of the self tensor with singleton dimensions expanded to a larger size. Tensor can be also expanded to a larger number of dimensions, and the new ones will be appended at the front. For the new dimensions, the size cannot be set to -1. \n",
        "\n",
        "**Use case:**\n",
        "\n",
        "\n",
        "\n",
        "*   index multi-channel tensor with single-channel mask - imagine a color image with 3 channels (RGB) and binary mask for the area of interest on that image. We cannot index the image with this kind of mask directly since the dimensions are different, but we can use `expand_as` operation to create a view of the mask that has the same dimensions as the image we want to apply it to, but has not copied the data. "
      ]
    },
    {
      "cell_type": "code",
      "metadata": {
        "id": "iz33E-V7nPQT",
        "outputId": "843b586d-222e-4c83-9f83-b755c0700751",
        "colab": {
          "base_uri": "https://localhost:8080/",
          "height": 595
        }
      },
      "source": [
        "%matplotlib inline\n",
        "from matplotlib import pyplot as plt\n",
        "\n",
        "# Create a black image\n",
        "image = torch.zeros(size=(3, 256, 256), dtype=torch.int)\n",
        "\n",
        "# Leave the borders and make the rest of the image Green\n",
        "image[1, 18:256 - 18, 18:256 - 18] = 255\n",
        "\n",
        "# Create a mask of the same size\n",
        "mask = torch.zeros(size=(256, 256), dtype=torch.bool)\n",
        "\n",
        "# Assuming the green region in the original image is the Region of interest, change the mask to white for that area\n",
        "mask[18:256 - 18, 18:256 - 18] = 1\n",
        "\n",
        "# Create a view of the mask with the same dimensions as the original image\n",
        "mask_expanded = mask.expand_as(image)\n",
        "print(mask_expanded.shape)\n",
        "\n",
        "mask_np = mask_expanded.numpy().transpose(1, 2, 0) * 255\n",
        "image_np = image.numpy().transpose(1, 2, 0)\n",
        "\n",
        "fig, ax = plt.subplots(1, 2)\n",
        "ax[0].imshow(image_np)\n",
        "ax[1].imshow(mask_np)\n",
        "plt.show()\n",
        "\n",
        "image[0, mask] += 128\n",
        "fig, ax = plt.subplots(1, 2)\n",
        "ax[0].imshow(image_np)\n",
        "ax[1].imshow(mask_np)\n",
        "plt.show()\n",
        "\n",
        "image[mask_expanded] += 128\n",
        "image.clamp_(0, 255)\n",
        "fig, ax = plt.subplots(1, 2)\n",
        "ax[0].imshow(image_np)\n",
        "ax[1].imshow(mask_np)\n",
        "plt.show()"
      ],
      "execution_count": 18,
      "outputs": [
        {
          "output_type": "stream",
          "name": "stdout",
          "text": [
            "torch.Size([3, 256, 256])\n"
          ]
        },
        {
          "output_type": "display_data",
          "data": {
            "text/plain": [
              "<Figure size 432x288 with 2 Axes>"
            ],
            "image/png": "[encoded data removed]"
          },
          "metadata": {
            "needs_background": "light"
          }
        },
        {
          "output_type": "display_data",
          "data": {
            "text/plain": [
              "<Figure size 432x288 with 2 Axes>"
            ],
            "image/png": "[encoded data removed]"
          },
          "metadata": {
            "needs_background": "light"
          }
        },
        {
          "output_type": "display_data",
          "data": {
            "text/plain": [
              "<Figure size 432x288 with 2 Axes>"
            ],
            "image/png": "[encoded data removed]"
          },
          "metadata": {
            "needs_background": "light"
          }
        }
      ]
    },
    {
      "cell_type": "markdown",
      "metadata": {
        "id": "jiXBx0k3ptOI"
      },
      "source": [
        "In the example above, one can also find a couple of useful tricks:\n",
        "\n",
        "\n",
        "*   `clamp` method and function is a Pytorch's analogue of NumPy's `clip` function\n",
        "*   many operations on tensors have in-place form, that does not return modified data, but change values in the tensor. The in-place version of the operation has trailing underscore according to Pytorch's naming convension - in the exmaple above it is `clamp_`\n",
        "*   tensors have the same indexing as Numpy's arrays - one can use `:` seperated range, negative indexes and so on.\n",
        "\n",
        "\n",
        ".\n",
        "\n",
        "\n",
        "---\n",
        "\n",
        "# Images and their representations\n",
        "\n",
        "Now, let's discuss images, their representations and how different Python librarties work with them. \n",
        "\n",
        "Probably, the most well-known library for image loading and simple processing is [Pillow](https://pillow.readthedocs.io/en/stable/). \n",
        "\n",
        "However, many people in deep learning area stick with OpenCV for image loading and processing with some usage of another libraries when it is justified by performance/functionality. This is because OpenCV is in general much faster than the other libraries. Here you can find a couple of benchmarks: \n",
        "\n",
        "*   https://www.kaggle.com/zfturbo/benchmark-2019-speed-of-image-reading\n",
        "*   https://github.com/albumentations-team/albumentations#benchmarking-results\n",
        "\n",
        "To sum up the benchmarks above, there are two most common image formats, PNG and JPEGs. If your data is in PNG format - use OpenCV to read it. If it is in JPEG - use libturbojpeg. For image processing, use OpenCV if possible. _We will be using PIL a lot along with these._\n",
        "\n",
        "As you will read the code from others, you may find out that some of them use Pillow/something else to read data. You should know, that color image representations in OpenCV and other libraries are different - OpenCV uses \"BGR\" channel order, while others use \"RGB\" one. \n",
        "\n",
        "To change \"BRG\" <-> \"RGB\" the only thing we need to do it to change channel order."
      ]
    },
    {
      "cell_type": "code",
      "metadata": {
        "id": "ZYv4sZMmpndu",
        "outputId": "b86a207c-19f4-498e-c347-f2bd707fd904",
        "colab": {
          "base_uri": "https://localhost:8080/",
          "height": 235
        }
      },
      "source": [
        "%matplotlib inline\n",
        "from matplotlib import pyplot as plt\n",
        "import cv2\n",
        "\n",
        "\n",
        "bgr_image = cv2.imread('mars.jpg') \n",
        "# remember to add your own image in case you run this block, if you want to use the same image, \n",
        "# download it from: https://encrypted-tbn0.gstatic.com/images?q=tbn%3AANd9GcRCA40ftnscVzfV8ft8e7vIzQXfXeZdtco8nknJrfCUW6INI40U\n",
        "rgb_image = bgr_image[..., ::-1]\n",
        "fig, ax = plt.subplots(1, 2)\n",
        "ax[0].imshow(bgr_image)\n",
        "ax[1].imshow(rgb_image)\n",
        "plt.show()"
      ],
      "execution_count": 28,
      "outputs": [
        {
          "output_type": "error",
          "ename": "TypeError",
          "evalue": "ignored",
          "traceback": [
            "\u001b[0;31m---------------------------------------------------------------------------\u001b[0m",
            "\u001b[0;31mTypeError\u001b[0m                                 Traceback (most recent call last)",
            "\u001b[0;32m<ipython-input-28-e9b9c08c3a68>\u001b[0m in \u001b[0;36m<module>\u001b[0;34m\u001b[0m\n\u001b[1;32m      7\u001b[0m \u001b[0;31m# remember to add your own image in case you run this block, if you want to use the same image,\u001b[0m\u001b[0;34m\u001b[0m\u001b[0;34m\u001b[0m\u001b[0;34m\u001b[0m\u001b[0m\n\u001b[1;32m      8\u001b[0m \u001b[0;31m# download it from: https://encrypted-tbn0.gstatic.com/images?q=tbn%3AANd9GcRCA40ftnscVzfV8ft8e7vIzQXfXeZdtco8nknJrfCUW6INI40U\u001b[0m\u001b[0;34m\u001b[0m\u001b[0;34m\u001b[0m\u001b[0;34m\u001b[0m\u001b[0m\n\u001b[0;32m----> 9\u001b[0;31m \u001b[0mrgb_image\u001b[0m \u001b[0;34m=\u001b[0m \u001b[0mbgr_image\u001b[0m\u001b[0;34m[\u001b[0m\u001b[0;34m...\u001b[0m\u001b[0;34m,\u001b[0m \u001b[0;34m:\u001b[0m\u001b[0;34m:\u001b[0m\u001b[0;34m-\u001b[0m\u001b[0;36m1\u001b[0m\u001b[0;34m]\u001b[0m\u001b[0;34m\u001b[0m\u001b[0;34m\u001b[0m\u001b[0m\n\u001b[0m\u001b[1;32m     10\u001b[0m \u001b[0mfig\u001b[0m\u001b[0;34m,\u001b[0m \u001b[0max\u001b[0m \u001b[0;34m=\u001b[0m \u001b[0mplt\u001b[0m\u001b[0;34m.\u001b[0m\u001b[0msubplots\u001b[0m\u001b[0;34m(\u001b[0m\u001b[0;36m1\u001b[0m\u001b[0;34m,\u001b[0m \u001b[0;36m2\u001b[0m\u001b[0;34m)\u001b[0m\u001b[0;34m\u001b[0m\u001b[0;34m\u001b[0m\u001b[0m\n\u001b[1;32m     11\u001b[0m \u001b[0max\u001b[0m\u001b[0;34m[\u001b[0m\u001b[0;36m0\u001b[0m\u001b[0;34m]\u001b[0m\u001b[0;34m.\u001b[0m\u001b[0mimshow\u001b[0m\u001b[0;34m(\u001b[0m\u001b[0mbgr_image\u001b[0m\u001b[0;34m)\u001b[0m\u001b[0;34m\u001b[0m\u001b[0;34m\u001b[0m\u001b[0m\n",
            "\u001b[0;31mTypeError\u001b[0m: 'NoneType' object is not subscriptable"
          ]
        }
      ]
    },
    {
      "cell_type": "markdown",
      "metadata": {
        "id": "yoi4TeNBGHle"
      },
      "source": [
        "\n",
        "\n",
        "---\n",
        "\n",
        "## Question 10:\n",
        "\n",
        "Looking at the results above it can be said that the pixel values in the blue channels would be very small compared to red channel. True/False?\n",
        "\n",
        "\n",
        "---\n",
        "\n",
        "\n"
      ]
    },
    {
      "cell_type": "markdown",
      "metadata": {
        "id": "b3ugFd57zNwa"
      },
      "source": [
        "# Autograd\n",
        "\n",
        "Pytorch supports automatic differentiation. The module which implements this is called **AutoGrad**. It calculates the gradients and keeps track in forward and backward passes. For primitive tensors, you need to enable or disable it using the `required_grad` flag. But, for advanced tensors, it is enabled by default"
      ]
    },
    {
      "cell_type": "code",
      "metadata": {
        "id": "VMOp4aiou6JR",
        "outputId": "49b0d45a-59af-4e8d-8631-af41262dc367",
        "colab": {
          "base_uri": "https://localhost:8080/"
        }
      },
      "source": [
        "a = torch.rand((3, 5), requires_grad = True)\n",
        "print(a)\n",
        "result = a * 5\n",
        "print(result)\n",
        "\n",
        "# grad can be implicitly created only for scalar outputs\n",
        "# so let's calculate the sum here so that the output becomes a scalar and we can apply a backward pass\n",
        "mean_result = result.sum()\n",
        "print(mean_result)\n",
        "# calculate gradient\n",
        "mean_result.backward()\n",
        "# print gradient of a\n",
        "print(a.grad)"
      ],
      "execution_count": 25,
      "outputs": [
        {
          "output_type": "stream",
          "name": "stdout",
          "text": [
            "tensor([[0.7739, 0.0674, 0.1927, 0.3238, 0.3081],\n",
            "        [0.8572, 0.7090, 0.9106, 0.7167, 0.2649],\n",
            "        [0.7300, 0.4881, 0.1531, 0.4669, 0.0567]], requires_grad=True)\n",
            "tensor([[3.8694, 0.3370, 0.9637, 1.6188, 1.5405],\n",
            "        [4.2858, 3.5448, 4.5532, 3.5835, 1.3243],\n",
            "        [3.6500, 2.4403, 0.7657, 2.3347, 0.2837]], grad_fn=<MulBackward0>)\n",
            "tensor(35.0957, grad_fn=<SumBackward0>)\n",
            "tensor([[5., 5., 5., 5., 5.],\n",
            "        [5., 5., 5., 5., 5.],\n",
            "        [5., 5., 5., 5., 5.]])\n"
          ]
        }
      ]
    },
    {
      "cell_type": "markdown",
      "metadata": {
        "id": "ym0Amk2IGfLx"
      },
      "source": [
        "\n",
        "\n",
        "---\n",
        "\n",
        "## Question 11: \n",
        "\n",
        "Why the gradient of a is all 5s above?\n",
        "\n",
        "\n",
        "\n",
        "---\n",
        "\n"
      ]
    },
    {
      "cell_type": "markdown",
      "metadata": {
        "id": "7PDgGq2R0k7I"
      },
      "source": [
        "As we see, Pytorch automagically calculated the gradient value for us. It looks to be the correct value - we multiplied an input by 5, so the gradient of this operation equals to 5.\n",
        "\n",
        "# Disabling Autograd for tensors\n",
        "\n",
        "We don't need to compute gradients for all the variables that are involved in the pipeline. The Pytorch API provides 2 ways to disable autograd.\n",
        "\n",
        "`detach` - returns a copy of the tensor with autograd disabled. This \n",
        "\n",
        "1.   copy is built on the same memory as the original tensor, so in-place size / stride / storage changes (such as resize_ / resizeas / set / transpose) modifications are not allowed.\n",
        "2.   torch.no_grad() - It is a context manager that allows you to guard a series of operations from autograd without creating new tensors."
      ]
    },
    {
      "cell_type": "code",
      "metadata": {
        "id": "yqVG9fQb0cLW",
        "outputId": "fc23205d-4b77-4f2a-e9aa-7fd3ddc95e93",
        "colab": {
          "base_uri": "https://localhost:8080/"
        }
      },
      "source": [
        "a = torch.rand((3, 5), requires_grad=True)\n",
        "detached_a = a.detach()\n",
        "detached_result = detached_a * 5\n",
        "result = a * 10\n",
        "# we cannot do backward pass that is required for autograd using multideminsional output,\n",
        "# so let's calculate the sum here\n",
        "mean_result = result.sum()\n",
        "mean_result.backward()\n",
        "a.grad"
      ],
      "execution_count": 26,
      "outputs": [
        {
          "output_type": "execute_result",
          "data": {
            "text/plain": [
              "tensor([[10., 10., 10., 10., 10.],\n",
              "        [10., 10., 10., 10., 10.],\n",
              "        [10., 10., 10., 10., 10.]])"
            ]
          },
          "metadata": {},
          "execution_count": 26
        }
      ]
    },
    {
      "cell_type": "code",
      "metadata": {
        "id": "uqpch2Be02J7",
        "outputId": "0a5ee8e8-81b8-46f0-c7fc-ac406657e928",
        "colab": {
          "base_uri": "https://localhost:8080/",
          "height": 71
        }
      },
      "source": [
        "a = torch.rand((3, 5), requires_grad=True)\n",
        "with torch.no_grad():\n",
        "    detached_result = a * 5\n",
        "result = a * 10\n",
        "# we cannot do backward pass that is required for autograd using multideminsional output,\n",
        "# so let's calculate the sum here\n",
        "mean_result = result.sum()\n",
        "mean_result.backward()\n",
        "a.grad"
      ],
      "execution_count": null,
      "outputs": [
        {
          "output_type": "execute_result",
          "data": {
            "text/plain": [
              "tensor([[10., 10., 10., 10., 10.],\n",
              "        [10., 10., 10., 10., 10.],\n",
              "        [10., 10., 10., 10., 10.]])"
            ]
          },
          "metadata": {
            "tags": []
          },
          "execution_count": 38
        }
      ]
    },
    {
      "cell_type": "markdown",
      "metadata": {
        "id": "vjh2rYOPJUAZ"
      },
      "source": [
        "# Custom Network\n",
        "\n",
        "A fully-connected ReLU network with one hidden layer and no biases, trained to predict y from x by minimizing squared Euclidean distance.\n",
        "\n",
        "This implementation uses PyTorch tensors to manually compute the forward pass, loss, and backward pass.\n",
        "\n",
        "A PyTorch Tensor is basically the same as a numpy array: it does not know anything about deep learning or computational graphs or gradients, and is just a generic n-dimensional array to be used for arbitrary numeric computation.\n",
        "\n",
        "The biggest difference between a numpy array and a PyTorch Tensor is that a PyTorch Tensor can run on either CPU or GPU. To run operations on the GPU, just cast the Tensor to a cuda datatype."
      ]
    },
    {
      "cell_type": "code",
      "metadata": {
        "id": "0nf5RaB104Vp",
        "outputId": "7d2766fd-ea8e-403c-d27b-2165e78e5f38",
        "colab": {
          "base_uri": "https://localhost:8080/"
        }
      },
      "source": [
        "dtype = torch.float\n",
        "device = torch.device(\"cpu\")\n",
        "# device = torch.device(\"cuda:0\") # Uncomment this to run on GPU\n",
        "\n",
        "# N is batch size; D_in is input dimension;\n",
        "# H is hidden dimension; D_out is output dimension.\n",
        "N, D_in, H, D_out = 64, 1000, 100, 10\n",
        "\n",
        "# Create random input and output data\n",
        "x = torch.randn(N, D_in, device=device, dtype=dtype)\n",
        "y = torch.randn(N, D_out, device=device, dtype=dtype)\n",
        "\n",
        "# Randomly initialize weights\n",
        "w1 = torch.randn(D_in, H, device=device, dtype=dtype)\n",
        "w2 = torch.randn(H, D_out, device=device, dtype=dtype)\n",
        "\n",
        "learning_rate = 1e-6\n",
        "for t in range(500):\n",
        "    # Forward pass: compute predicted y\n",
        "    h = x.mm(w1)\n",
        "    h_relu = h.clamp(min=0)\n",
        "    y_pred = h_relu.mm(w2)\n",
        "\n",
        "    # Compute and print loss\n",
        "    loss = (y_pred - y).pow(2).sum().item()\n",
        "    print(t, loss)\n",
        "\n",
        "    # Backprop to compute gradients of w1 and w2 with respect to loss\n",
        "    grad_y_pred = 2*(y_pred - y)\n",
        "    grad_w2 = h_relu.t().mm(grad_y_pred)\n",
        "    grad_h_relu = grad_y_pred.mm(w2.t())\n",
        "    grad_h = grad_h_relu.clone()\n",
        "    grad_h[h < 0] = 0\n",
        "    grad_w1 = x.t().mm(grad_h)\n",
        "\n",
        "    # Update weights using gradient descent\n",
        "    w1 -= learning_rate * grad_w1\n",
        "    w2 -= learning_rate * grad_w2"
      ],
      "execution_count": 27,
      "outputs": [
        {
          "output_type": "stream",
          "name": "stdout",
          "text": [
            "0 29747046.0\n",
            "1 25139200.0\n",
            "2 23121706.0\n",
            "3 20552494.0\n",
            "4 16724907.0\n",
            "5 12199075.0\n",
            "6 8162000.0\n",
            "7 5201885.0\n",
            "8 3304678.0\n",
            "9 2166770.75\n",
            "10 1498321.625\n",
            "11 1097912.125\n",
            "12 847792.875\n",
            "13 682343.5\n",
            "14 566088.0\n",
            "15 479827.90625\n",
            "16 412814.4375\n",
            "17 359014.28125\n",
            "18 314809.375\n",
            "19 277761.84375\n",
            "20 246286.4375\n",
            "21 219311.734375\n",
            "22 196071.578125\n",
            "23 175939.625\n",
            "24 158336.21875\n",
            "25 142869.53125\n",
            "26 129224.0859375\n",
            "27 117148.7890625\n",
            "28 106424.609375\n",
            "29 96881.65625\n",
            "30 88355.0\n",
            "31 80720.09375\n",
            "32 73873.5859375\n",
            "33 67713.609375\n",
            "34 62157.3828125\n",
            "35 57136.18359375\n",
            "36 52588.03125\n",
            "37 48461.76953125\n",
            "38 44714.19140625\n",
            "39 41305.37890625\n",
            "40 38198.8046875\n",
            "41 35367.28515625\n",
            "42 32779.859375\n",
            "43 30413.5859375\n",
            "44 28245.375\n",
            "45 26254.185546875\n",
            "46 24423.8125\n",
            "47 22738.970703125\n",
            "48 21186.7890625\n",
            "49 19755.24609375\n",
            "50 18432.65625\n",
            "51 17212.46875\n",
            "52 16083.4169921875\n",
            "53 15037.6806640625\n",
            "54 14069.1376953125\n",
            "55 13170.564453125\n",
            "56 12336.0947265625\n",
            "57 11560.8330078125\n",
            "58 10840.0439453125\n",
            "59 10169.7138671875\n",
            "60 9545.681640625\n",
            "61 8964.1298828125\n",
            "62 8423.1787109375\n",
            "63 7918.80029296875\n",
            "64 7448.4873046875\n",
            "65 7009.15625\n",
            "66 6598.53857421875\n",
            "67 6214.52587890625\n",
            "68 5855.01416015625\n",
            "69 5518.4111328125\n",
            "70 5203.0390625\n",
            "71 4907.48828125\n",
            "72 4630.4375\n",
            "73 4370.59326171875\n",
            "74 4126.78515625\n",
            "75 3897.803955078125\n",
            "76 3682.680419921875\n",
            "77 3480.448974609375\n",
            "78 3290.3115234375\n",
            "79 3111.44921875\n",
            "80 2943.12890625\n",
            "81 2784.672607421875\n",
            "82 2635.55615234375\n",
            "83 2495.000244140625\n",
            "84 2362.487548828125\n",
            "85 2237.5791015625\n",
            "86 2119.802978515625\n",
            "87 2008.66748046875\n",
            "88 1903.8077392578125\n",
            "89 1804.841552734375\n",
            "90 1711.3785400390625\n",
            "91 1623.092529296875\n",
            "92 1539.655029296875\n",
            "93 1460.838134765625\n",
            "94 1386.3197021484375\n",
            "95 1315.873291015625\n",
            "96 1249.24169921875\n",
            "97 1186.1995849609375\n",
            "98 1126.5399169921875\n",
            "99 1070.079345703125\n",
            "100 1016.6109619140625\n",
            "101 965.9851684570312\n",
            "102 918.061767578125\n",
            "103 872.6278686523438\n",
            "104 829.5738525390625\n",
            "105 788.766845703125\n",
            "106 750.0992431640625\n",
            "107 713.4149780273438\n",
            "108 678.631103515625\n",
            "109 645.636962890625\n",
            "110 614.3367309570312\n",
            "111 584.6327514648438\n",
            "112 556.4398803710938\n",
            "113 529.6730346679688\n",
            "114 504.2659606933594\n",
            "115 480.147216796875\n",
            "116 457.2464599609375\n",
            "117 435.494140625\n",
            "118 414.8265075683594\n",
            "119 395.19195556640625\n",
            "120 376.5284729003906\n",
            "121 358.7909240722656\n",
            "122 341.92779541015625\n",
            "123 325.8987731933594\n",
            "124 310.6558837890625\n",
            "125 296.15716552734375\n",
            "126 282.3650207519531\n",
            "127 269.2497863769531\n",
            "128 256.7637939453125\n",
            "129 244.8856201171875\n",
            "130 233.576171875\n",
            "131 222.81475830078125\n",
            "132 212.565185546875\n",
            "133 202.80943298339844\n",
            "134 193.5213623046875\n",
            "135 184.67678833007812\n",
            "136 176.2467041015625\n",
            "137 168.21937561035156\n",
            "138 160.57058715820312\n",
            "139 153.28912353515625\n",
            "140 146.3468017578125\n",
            "141 139.72903442382812\n",
            "142 133.42062377929688\n",
            "143 127.41146850585938\n",
            "144 121.68230438232422\n",
            "145 116.21763610839844\n",
            "146 111.009033203125\n",
            "147 106.04202270507812\n",
            "148 101.30245971679688\n",
            "149 96.78684997558594\n",
            "150 92.47669982910156\n",
            "151 88.36483764648438\n",
            "152 84.44303894042969\n",
            "153 80.70018005371094\n",
            "154 77.13018798828125\n",
            "155 73.7232437133789\n",
            "156 70.46990966796875\n",
            "157 67.36531829833984\n",
            "158 64.40192413330078\n",
            "159 61.57952117919922\n",
            "160 58.88418960571289\n",
            "161 56.31107711791992\n",
            "162 53.85400390625\n",
            "163 51.507240295410156\n",
            "164 49.26692199707031\n",
            "165 47.12519836425781\n",
            "166 45.079200744628906\n",
            "167 43.124717712402344\n",
            "168 41.25867462158203\n",
            "169 39.474853515625\n",
            "170 37.770591735839844\n",
            "171 36.1427001953125\n",
            "172 34.58629608154297\n",
            "173 33.09840393066406\n",
            "174 31.676511764526367\n",
            "175 30.3172607421875\n",
            "176 29.018341064453125\n",
            "177 27.77591323852539\n",
            "178 26.588592529296875\n",
            "179 25.45293426513672\n",
            "180 24.367494583129883\n",
            "181 23.33002281188965\n",
            "182 22.336843490600586\n",
            "183 21.387271881103516\n",
            "184 20.479520797729492\n",
            "185 19.611223220825195\n",
            "186 18.77968406677246\n",
            "187 17.985336303710938\n",
            "188 17.225170135498047\n",
            "189 16.498077392578125\n",
            "190 15.801867485046387\n",
            "191 15.135357856750488\n",
            "192 14.498459815979004\n",
            "193 13.889036178588867\n",
            "194 13.305228233337402\n",
            "195 12.746832847595215\n",
            "196 12.212343215942383\n",
            "197 11.700576782226562\n",
            "198 11.211336135864258\n",
            "199 10.743106842041016\n",
            "200 10.294256210327148\n",
            "201 9.864355087280273\n",
            "202 9.452977180480957\n",
            "203 9.05926513671875\n",
            "204 8.682268142700195\n",
            "205 8.32142448425293\n",
            "206 7.975870132446289\n",
            "207 7.644970417022705\n",
            "208 7.328195571899414\n",
            "209 7.024600028991699\n",
            "210 6.734036922454834\n",
            "211 6.455734729766846\n",
            "212 6.1890363693237305\n",
            "213 5.933608055114746\n",
            "214 5.688998699188232\n",
            "215 5.454874038696289\n",
            "216 5.230135917663574\n",
            "217 5.015169143676758\n",
            "218 4.80902624130249\n",
            "219 4.611722469329834\n",
            "220 4.42227840423584\n",
            "221 4.240878105163574\n",
            "222 4.067566394805908\n",
            "223 3.900937557220459\n",
            "224 3.74133038520813\n",
            "225 3.588550090789795\n",
            "226 3.441842555999756\n",
            "227 3.3014633655548096\n",
            "228 3.166698932647705\n",
            "229 3.037944793701172\n",
            "230 2.914278745651245\n",
            "231 2.795590877532959\n",
            "232 2.6817822456359863\n",
            "233 2.5728766918182373\n",
            "234 2.468479871749878\n",
            "235 2.368260383605957\n",
            "236 2.272326707839966\n",
            "237 2.1801810264587402\n",
            "238 2.0918853282928467\n",
            "239 2.007456064224243\n",
            "240 1.9261250495910645\n",
            "241 1.848238468170166\n",
            "242 1.7736111879348755\n",
            "243 1.7021108865737915\n",
            "244 1.6334075927734375\n",
            "245 1.5676355361938477\n",
            "246 1.5045080184936523\n",
            "247 1.443856954574585\n",
            "248 1.3857452869415283\n",
            "249 1.330194354057312\n",
            "250 1.2766311168670654\n",
            "251 1.225418210029602\n",
            "252 1.1762300729751587\n",
            "253 1.1290682554244995\n",
            "254 1.0839481353759766\n",
            "255 1.0404114723205566\n",
            "256 0.9988235831260681\n",
            "257 0.9588481783866882\n",
            "258 0.9205365777015686\n",
            "259 0.8836846351623535\n",
            "260 0.8484575152397156\n",
            "261 0.8146103620529175\n",
            "262 0.7821317315101624\n",
            "263 0.7508805394172668\n",
            "264 0.7209976315498352\n",
            "265 0.692238986492157\n",
            "266 0.6646984815597534\n",
            "267 0.6381946802139282\n",
            "268 0.6128459572792053\n",
            "269 0.5885194540023804\n",
            "270 0.5651403665542603\n",
            "271 0.5426456928253174\n",
            "272 0.5211827158927917\n",
            "273 0.5004975199699402\n",
            "274 0.4806590676307678\n",
            "275 0.4616646468639374\n",
            "276 0.4434037208557129\n",
            "277 0.42580297589302063\n",
            "278 0.40894782543182373\n",
            "279 0.392792671918869\n",
            "280 0.3772852420806885\n",
            "281 0.362352192401886\n",
            "282 0.3480761647224426\n",
            "283 0.3343846797943115\n",
            "284 0.3211451768875122\n",
            "285 0.30853548645973206\n",
            "286 0.29637008905410767\n",
            "287 0.2846331000328064\n",
            "288 0.27346163988113403\n",
            "289 0.2626534700393677\n",
            "290 0.25236108899116516\n",
            "291 0.2424597591161728\n",
            "292 0.23296111822128296\n",
            "293 0.2238030731678009\n",
            "294 0.215008944272995\n",
            "295 0.2065991759300232\n",
            "296 0.19849544763565063\n",
            "297 0.1907004714012146\n",
            "298 0.18322381377220154\n",
            "299 0.17604145407676697\n",
            "300 0.16917137801647186\n",
            "301 0.1625117063522339\n",
            "302 0.1561538279056549\n",
            "303 0.15008333325386047\n",
            "304 0.1442449688911438\n",
            "305 0.1385757476091385\n",
            "306 0.13317617774009705\n",
            "307 0.12798216938972473\n",
            "308 0.12296702712774277\n",
            "309 0.11817453056573868\n",
            "310 0.1135692149400711\n",
            "311 0.10916151106357574\n",
            "312 0.10491836071014404\n",
            "313 0.1008508950471878\n",
            "314 0.09693051874637604\n",
            "315 0.09315770119428635\n",
            "316 0.08953703939914703\n",
            "317 0.0860518366098404\n",
            "318 0.0827120840549469\n",
            "319 0.07948852330446243\n",
            "320 0.07641295343637466\n",
            "321 0.07345746457576752\n",
            "322 0.07060333341360092\n",
            "323 0.06786976009607315\n",
            "324 0.06525854766368866\n",
            "325 0.06273436546325684\n",
            "326 0.06031019985675812\n",
            "327 0.05798500031232834\n",
            "328 0.05574730038642883\n",
            "329 0.053581587970256805\n",
            "330 0.05150940269231796\n",
            "331 0.04954221844673157\n",
            "332 0.04762030392885208\n",
            "333 0.04577118903398514\n",
            "334 0.04401271045207977\n",
            "335 0.042331352829933167\n",
            "336 0.04069684445858002\n",
            "337 0.039126403629779816\n",
            "338 0.037630558013916016\n",
            "339 0.0361841544508934\n",
            "340 0.03479678928852081\n",
            "341 0.03346250206232071\n",
            "342 0.0321953110396862\n",
            "343 0.03096500225365162\n",
            "344 0.029763702303171158\n",
            "345 0.028629016131162643\n",
            "346 0.027537859976291656\n",
            "347 0.026495611295104027\n",
            "348 0.025487061589956284\n",
            "349 0.02450944110751152\n",
            "350 0.02356550842523575\n",
            "351 0.022675691172480583\n",
            "352 0.021817676723003387\n",
            "353 0.021008748561143875\n",
            "354 0.02021053433418274\n",
            "355 0.019441859796643257\n",
            "356 0.018705449998378754\n",
            "357 0.01799902692437172\n",
            "358 0.017318356782197952\n",
            "359 0.016673801466822624\n",
            "360 0.01604096032679081\n",
            "361 0.01543085090816021\n",
            "362 0.014851530082523823\n",
            "363 0.01429207343608141\n",
            "364 0.013759031891822815\n",
            "365 0.013246290385723114\n",
            "366 0.012750991620123386\n",
            "367 0.012274947948753834\n",
            "368 0.011822283267974854\n",
            "369 0.011389442719519138\n",
            "370 0.010968686081469059\n",
            "371 0.010566618293523788\n",
            "372 0.010177270509302616\n",
            "373 0.00979543849825859\n",
            "374 0.00944316666573286\n",
            "375 0.009094854816794395\n",
            "376 0.008762196637690067\n",
            "377 0.008444494567811489\n",
            "378 0.008133306168019772\n",
            "379 0.007833866402506828\n",
            "380 0.0075554512441158295\n",
            "381 0.007283205632120371\n",
            "382 0.007022548466920853\n",
            "383 0.006768530234694481\n",
            "384 0.006522375158965588\n",
            "385 0.006289795506745577\n",
            "386 0.006063548848032951\n",
            "387 0.005846535786986351\n",
            "388 0.0056336745619773865\n",
            "389 0.005436856299638748\n",
            "390 0.005245920270681381\n",
            "391 0.00506124971434474\n",
            "392 0.004886047914624214\n",
            "393 0.00471765361726284\n",
            "394 0.004550248384475708\n",
            "395 0.00439141970127821\n",
            "396 0.00423574261367321\n",
            "397 0.004089977592229843\n",
            "398 0.003952601924538612\n",
            "399 0.003813435323536396\n",
            "400 0.003685595467686653\n",
            "401 0.003559855278581381\n",
            "402 0.003438175655901432\n",
            "403 0.0033221545163542032\n",
            "404 0.003208703361451626\n",
            "405 0.0031044739298522472\n",
            "406 0.002998729469254613\n",
            "407 0.0028977401088923216\n",
            "408 0.002802723553031683\n",
            "409 0.0027119352016597986\n",
            "410 0.002623726148158312\n",
            "411 0.0025374284014105797\n",
            "412 0.002452523447573185\n",
            "413 0.0023714329581707716\n",
            "414 0.0022943338844925165\n",
            "415 0.002220582216978073\n",
            "416 0.002148258499801159\n",
            "417 0.002079095458611846\n",
            "418 0.0020152716897428036\n",
            "419 0.0019492327701300383\n",
            "420 0.0018871792126446962\n",
            "421 0.0018282955279573798\n",
            "422 0.0017730945255607367\n",
            "423 0.0017150120111182332\n",
            "424 0.0016620527021586895\n",
            "425 0.0016101272776722908\n",
            "426 0.0015616270247846842\n",
            "427 0.0015138585586100817\n",
            "428 0.0014689704403281212\n",
            "429 0.001425057416781783\n",
            "430 0.0013798715081065893\n",
            "431 0.0013389794621616602\n",
            "432 0.0012982406187802553\n",
            "433 0.001261448604054749\n",
            "434 0.0012233166489750147\n",
            "435 0.0011889329180121422\n",
            "436 0.001153841381892562\n",
            "437 0.001122201792895794\n",
            "438 0.001089689671061933\n",
            "439 0.001058076974004507\n",
            "440 0.0010290774516761303\n",
            "441 0.000998559407889843\n",
            "442 0.000970587192568928\n",
            "443 0.0009452418307773769\n",
            "444 0.0009193405858241022\n",
            "445 0.0008926442824304104\n",
            "446 0.000867979833856225\n",
            "447 0.0008437564829364419\n",
            "448 0.0008205469348467886\n",
            "449 0.0007987833232618868\n",
            "450 0.0007774202967993915\n",
            "451 0.0007565648411400616\n",
            "452 0.0007363826152868569\n",
            "453 0.0007167487638071179\n",
            "454 0.0006981550250202417\n",
            "455 0.0006809389451518655\n",
            "456 0.0006639375351369381\n",
            "457 0.0006458481075242162\n",
            "458 0.0006301094545051455\n",
            "459 0.0006143281352706254\n",
            "460 0.0005987002514302731\n",
            "461 0.0005841004895046353\n",
            "462 0.000568974413909018\n",
            "463 0.0005550896166823804\n",
            "464 0.0005411686142906547\n",
            "465 0.0005277784075587988\n",
            "466 0.0005156121915206313\n",
            "467 0.0005040123942308128\n",
            "468 0.0004930709255859256\n",
            "469 0.0004811454564332962\n",
            "470 0.0004694112576544285\n",
            "471 0.0004585692659020424\n",
            "472 0.0004476622270885855\n",
            "473 0.0004367249784991145\n",
            "474 0.0004264863673597574\n",
            "475 0.00041615444933995605\n",
            "476 0.00040600821375846863\n",
            "477 0.00039729956188239157\n",
            "478 0.00038868351839482784\n",
            "479 0.00038018019404262304\n",
            "480 0.00037087296368554235\n",
            "481 0.00036257144529372454\n",
            "482 0.00035513105103746057\n",
            "483 0.0003474110853858292\n",
            "484 0.0003401974681764841\n",
            "485 0.00033207680098712444\n",
            "486 0.0003249581786803901\n",
            "487 0.00031809130450710654\n",
            "488 0.0003111385740339756\n",
            "489 0.00030394038185477257\n",
            "490 0.00029801292112097144\n",
            "491 0.0002921523991972208\n",
            "492 0.00028582545928657055\n",
            "493 0.00028016988653689623\n",
            "494 0.0002736356691457331\n",
            "495 0.00026826601242646575\n",
            "496 0.0002626508357934654\n",
            "497 0.0002579804859124124\n",
            "498 0.0002520224661566317\n",
            "499 0.0002471408515702933\n"
          ]
        }
      ]
    },
    {
      "cell_type": "markdown",
      "metadata": {
        "id": "ycwxAPHZLNST"
      },
      "source": [
        "\n",
        "\n",
        "---\n",
        "## Question 12\n",
        "\n",
        "In the code above, why do we have 2 in '2.0*(y_pred - y)`?\n",
        "## Answer 12\n",
        "the coefficient 2 in front of (y_pred - y) is used to compute the gradient of the mean squared error loss with respect to the predicted output y_pred.\n",
        "\n",
        "## Question 13\n",
        "In the code above, what does `grad_h[h < 0] = 0` signify?\n",
        "\n",
        "## Answer 13\n",
        "ReLU\" (rectified linear unit) \n",
        "n the code grad_h[h < 0] = 0, the expression h < 0 returns a Boolean array that is True for elements of h that are less than 0, and False for elements of h that are greater than or equal to 0. The expression grad_h[h < 0] selects the elements of grad_h corresponding to the True values in the Boolean array, and the assignment grad_h[h < 0] = 0 sets these selected elements to 0.\n",
        "\n",
        "## Question 14\n",
        "In the code above, how many \"epochs\" have we trained the model for? \n",
        "## Answer 14\n",
        "500\n",
        "\n",
        "## Question 15\n",
        "In the code above, if we take the trained model, and run it on fresh  inputs, the trained model will be able to predict fresh output with high accuracy. \n",
        "\n",
        "## Question 16\n",
        "In the code above, if we dont use clone in `grad_h = grad_h_relu.clone()` the model will still train without any issues. "
      ]
    },
    {
      "cell_type": "code",
      "metadata": {
        "id": "PnJ49I07JJI6"
      },
      "source": [],
      "execution_count": null,
      "outputs": []
    }
  ]
}